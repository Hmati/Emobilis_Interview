{
 "cells": [
  {
   "cell_type": "markdown",
   "id": "87b2f902",
   "metadata": {},
   "source": [
    "## Dataset Overview\n",
    "\n",
    "**The following dataset was collected during a web development program . It contains data\n",
    "about selected students who applied for the program . Here is the metadata to give a\n",
    "description**\n",
    "### Metadata\n",
    "Attribute Explanation\n",
    "\n",
    "<br> Gender -  The specific gender <br>\n",
    "<br>Location - Where they come from <br>\n",
    "<br>County Number - County the belong to / International Students<br>\n",
    "<br>Computer Proficient - Do they have basic computer skills?<br>\n",
    "<br>Level Of Education - Which level of education they hold<br>\n",
    "<br>Commitment - If they can commit 2 months to do the program<br>\n",
    "<br>Access to Device -  Do they have a computer?<br>\n",
    "<br>Access to Internet - Can they access the Internet to Learn?<br>\n",
    "<br>Information Gain  - How did they know about the scholarship<br>\n",
    "<br>Lecturer - Who trained the student?<br>\n",
    "<br>Selected - Were they selected for the program?<br>\n",
    "<br>Completed  - Did they complete the program?<br>"
   ]
  },
  {
   "cell_type": "markdown",
   "id": "cd83c24a",
   "metadata": {},
   "source": [
    "## Data Analysis\n",
    "\n",
    "(Graphical Representations can be bar graphs, pie-charts, swarm plots e.t.c) : Use PYTHON\n",
    "1. Graphical representation to show the Applications in terms of gender\n",
    "2. Graphical Representation to show Information Gain\n",
    "3. Graphical Representation to show Applications in terms of Location/County\n",
    "4. Graphical Representation to show Applications in terms of Level of education\n",
    "5. Graphical representation to show how many students completed\n",
    "6. Graphical representation to show student distribution among the lecturer\n",
    "7. Graphical representation to show the completion rate for lecturer A , B and E\n",
    "\n",
    "## Machine Learning\n",
    "8. Choose a machine learning model & train ; to see if a student will complete\n",
    "or not.\n",
    "(Remember to write comments on your code.)\n"
   ]
  },
  {
   "cell_type": "code",
   "execution_count": null,
   "id": "c0501707",
   "metadata": {},
   "outputs": [],
   "source": [
    "#Import Libraries \n",
    "\n",
    "import pandas as pd\n",
    "import numpy as np \n",
    "import matplotlib.pyplot as plt\n",
    "import seaborn as sns \n",
    "import matplotlib as mpl\n",
    "from scipy import stats\n",
    "from sklearn.ensemble import RandomForestRegressor\n",
    "from matplotlib import rcParams\n",
    "from sklearn.metrics import explained_variance_score\n",
    "\n",
    "import matplotlib.pyplot as plt\n",
    "\n",
    "sns.set_style(\"darkgrid\")"
   ]
  },
  {
   "cell_type": "markdown",
   "id": "551727a9",
   "metadata": {},
   "source": [
    "## Load the dataset"
   ]
  },
  {
   "cell_type": "code",
   "execution_count": null,
   "id": "11c45495",
   "metadata": {},
   "outputs": [],
   "source": [
    "\n",
    "df = pd.read_csv('Web Dev Cleaned Data (1).csv')\n",
    "\n",
    "df.head()"
   ]
  },
  {
   "cell_type": "code",
   "execution_count": null,
   "id": "9d2a303f",
   "metadata": {},
   "outputs": [],
   "source": [
    "df.info()"
   ]
  },
  {
   "cell_type": "code",
   "execution_count": null,
   "id": "16111f98",
   "metadata": {},
   "outputs": [],
   "source": [
    "df.shape"
   ]
  },
  {
   "cell_type": "code",
   "execution_count": null,
   "id": "578e686c",
   "metadata": {},
   "outputs": [],
   "source": [
    "df.isna().sum()"
   ]
  },
  {
   "cell_type": "markdown",
   "id": "3935a8da",
   "metadata": {},
   "source": [
    "## Data Cleaning"
   ]
  },
  {
   "cell_type": "code",
   "execution_count": null,
   "id": "ee7683a9",
   "metadata": {},
   "outputs": [],
   "source": [
    "#Lets drop the missing value - wont affect the dataset \n",
    "\n",
    "df = df.dropna()"
   ]
  },
  {
   "cell_type": "code",
   "execution_count": null,
   "id": "f908b2e5",
   "metadata": {},
   "outputs": [],
   "source": [
    "df.isna().sum()"
   ]
  },
  {
   "cell_type": "code",
   "execution_count": null,
   "id": "c5d0b603",
   "metadata": {},
   "outputs": [],
   "source": [
    "df.columns"
   ]
  },
  {
   "cell_type": "code",
   "execution_count": null,
   "id": "dcb02bd7",
   "metadata": {},
   "outputs": [],
   "source": [
    "#remane column Completed to remove space\n",
    "df = df.rename(columns={'Completed ': 'Completed'})"
   ]
  },
  {
   "cell_type": "code",
   "execution_count": null,
   "id": "da0a3627",
   "metadata": {},
   "outputs": [],
   "source": [
    "#Modify Values in completed column 'yes' to Yes \n",
    "\n",
    "df['Completed'] = df['Completed'].replace('yes','Yes')"
   ]
  },
  {
   "cell_type": "code",
   "execution_count": null,
   "id": "b74bb84d",
   "metadata": {},
   "outputs": [],
   "source": [
    "#Drop the two duplicate columns\n",
    "df = df.drop(['Unnamed: 0'], axis=1)"
   ]
  },
  {
   "cell_type": "code",
   "execution_count": null,
   "id": "a6744fde",
   "metadata": {},
   "outputs": [],
   "source": [
    "#Save the new CSV\n",
    "df.to_csv('NewWebDev1.csv')"
   ]
  },
  {
   "cell_type": "code",
   "execution_count": null,
   "id": "47279f16",
   "metadata": {},
   "outputs": [],
   "source": [
    "#Import the new CSV For analysis \n",
    "\n",
    "df = pd.read_csv('NewWebDev1.csv')\n",
    "df.head(5)\n"
   ]
  },
  {
   "cell_type": "markdown",
   "id": "3a469708",
   "metadata": {},
   "source": [
    "## 1. Graphical representation to show the Applications in terms of gender"
   ]
  },
  {
   "cell_type": "code",
   "execution_count": null,
   "id": "a72b2c0c",
   "metadata": {},
   "outputs": [],
   "source": [
    "by_gender = df.groupby('Gender')\n",
    "by_gender.size().plot(kind='bar')"
   ]
  },
  {
   "cell_type": "markdown",
   "id": "7e9a3a71",
   "metadata": {},
   "source": [
    "## 2 .Graphical Representation to show Information Gain"
   ]
  },
  {
   "cell_type": "code",
   "execution_count": null,
   "id": "a882e9e1",
   "metadata": {},
   "outputs": [],
   "source": []
  },
  {
   "cell_type": "code",
   "execution_count": null,
   "id": "8932a56c",
   "metadata": {},
   "outputs": [],
   "source": [
    "# Plot frequency\n",
    "df['InformationGain'].value_counts().plot.bar()\n"
   ]
  },
  {
   "cell_type": "markdown",
   "id": "9be5e026",
   "metadata": {},
   "source": [
    "## 3. Graphical Representation to show Applications in terms of Location/County"
   ]
  },
  {
   "cell_type": "code",
   "execution_count": null,
   "id": "372bacd9",
   "metadata": {},
   "outputs": [],
   "source": [
    "df_location = df.groupby(['Location'])['Location'].count().reset_index(name='count')\n",
    "\n",
    "import plotly.express as px\n",
    "plt.rcParams[\"figure.figsize\"] = [7.50, 3.50]\n",
    "plt.rcParams[\"figure.autolayout\"] = True\n",
    "fig = px.pie(df_location, values='count', names='Location', title='Applications in terms of Location/County')\n",
    "fig.show()"
   ]
  },
  {
   "cell_type": "code",
   "execution_count": null,
   "id": "dbb09e64",
   "metadata": {},
   "outputs": [],
   "source": []
  },
  {
   "cell_type": "code",
   "execution_count": null,
   "id": "707c2817",
   "metadata": {},
   "outputs": [],
   "source": [
    "pip install plotly"
   ]
  },
  {
   "cell_type": "markdown",
   "id": "30a4af78",
   "metadata": {},
   "source": [
    "## 4.Graphical Representation to show Applications in terms of Level of education"
   ]
  },
  {
   "cell_type": "code",
   "execution_count": null,
   "id": "b98dc3e4",
   "metadata": {},
   "outputs": [],
   "source": [
    "df.head()"
   ]
  },
  {
   "cell_type": "code",
   "execution_count": null,
   "id": "e33c0e4b",
   "metadata": {},
   "outputs": [],
   "source": [
    "df_education = df.groupby(['Levelofeducation'])['Levelofeducation'].count().reset_index(name='count')\n",
    "df_education"
   ]
  },
  {
   "cell_type": "code",
   "execution_count": null,
   "id": "42ad9e63",
   "metadata": {},
   "outputs": [],
   "source": [
    "df_education = df.groupby(['Levelofeducation'])['Levelofeducation'].count().reset_index(name='count')\n",
    "\n",
    "import plotly.express as px\n",
    "\n",
    "plt.rcParams[\"figure.figsize\"] = [7.50, 3.50]\n",
    "plt.rcParams[\"figure.autolayout\"] = True\n",
    "\n",
    "fig = px.pie(df_education, values='count', names='Levelofeducation', title='Applications in terms of Levelofeducation')\n",
    "fig.show()"
   ]
  },
  {
   "cell_type": "markdown",
   "id": "4fc97f4f",
   "metadata": {},
   "source": [
    "## 5. Graphical representation to show how many students completed"
   ]
  },
  {
   "cell_type": "code",
   "execution_count": null,
   "id": "6a9d1693",
   "metadata": {},
   "outputs": [],
   "source": [
    "df.head(2)"
   ]
  },
  {
   "cell_type": "code",
   "execution_count": null,
   "id": "bfe14fa6",
   "metadata": {},
   "outputs": [],
   "source": [
    "df.columns"
   ]
  },
  {
   "cell_type": "code",
   "execution_count": null,
   "id": "6d7c8b14",
   "metadata": {},
   "outputs": [],
   "source": [
    "Completed = df.groupby('Completed')\n",
    "Completed.size().plot(kind='bar')"
   ]
  },
  {
   "cell_type": "markdown",
   "id": "47b1dddc",
   "metadata": {},
   "source": [
    "## 6 .Graphical representation to show student distribution among the lecturer\n"
   ]
  },
  {
   "cell_type": "code",
   "execution_count": null,
   "id": "8052583f",
   "metadata": {},
   "outputs": [],
   "source": []
  },
  {
   "cell_type": "code",
   "execution_count": null,
   "id": "b6798691",
   "metadata": {},
   "outputs": [],
   "source": [
    "df['Lecturer'].value_counts().plot(kind='bar')"
   ]
  },
  {
   "cell_type": "markdown",
   "id": "f0625198",
   "metadata": {},
   "source": [
    "## 7.Graphical representation to show the completion rate for lecturer A , B and E"
   ]
  },
  {
   "cell_type": "code",
   "execution_count": null,
   "id": "fc0f6181",
   "metadata": {},
   "outputs": [],
   "source": [
    "#completion_rate  = df.groupby(\"Lecturer\").sum().sort_values(by=\"Completed\")\n",
    "#completion_rate \n",
    "\n",
    "g = df.groupby(['Lecturer', 'Completed']).size().reset_index(name='count')\n",
    "plt.bar(g['Lecturer'],g['count'])"
   ]
  },
  {
   "cell_type": "markdown",
   "id": "f50a1599",
   "metadata": {},
   "source": [
    "## 8. Choose a machine learning model & train ; to see if a student will complete or not"
   ]
  },
  {
   "cell_type": "markdown",
   "id": "e1a81173",
   "metadata": {},
   "source": [
    "## Data Preparation:\n",
    "\n",
    "Split the data into X and y."
   ]
  },
  {
   "cell_type": "code",
   "execution_count": null,
   "id": "ce7d22aa",
   "metadata": {},
   "outputs": [],
   "source": [
    "#Columns to use \n",
    "df.dtypes"
   ]
  },
  {
   "cell_type": "code",
   "execution_count": null,
   "id": "9df180f0",
   "metadata": {},
   "outputs": [],
   "source": [
    "from sklearn.compose import make_column_transformer\n",
    "from sklearn.preprocessing import RobustScaler\n",
    "from sklearn.preprocessing import OneHotEncoder\n",
    "import sklearn\n",
    "X = sklearn.preprocessing.StandardScaler().fit_transform(X)\n",
    "\n",
    "categorical_columns = [ 'Location', \n",
    "       'computerProficient', 'Levelofeducation', 'Commitment ',\n",
    "       'AccestoDevice', 'AccestoInternet', 'InformationGain', 'Completed ',\n",
    "       'Lecturer']\n",
    "\n",
    "numerical_columns = ['CountyNumber']\n",
    "make_column_transformer(\n",
    "        (StandardScaler(), [numerical_columns]),\n",
    "        (OneHotEncoder(), [categorical_column]))\n",
    "ColumnTransformer(transformers=[('standardscaler', StandardScaler(...),\n",
    "                                 [numerical_columns]),\n",
    "                                ('onehotencoder', OneHotEncoder(...),\n",
    "                                 [categorical_columns])])"
   ]
  },
  {
   "cell_type": "code",
   "execution_count": null,
   "id": "2b258ddb",
   "metadata": {},
   "outputs": [],
   "source": [
    "one_hot_encoded_data = pd.get_dummies(df, columns = [['Gender', 'Location', \n",
    "       'computerProficient', 'Levelofeducation', 'Commitment ',\n",
    "       'AccestoDevice', 'AccestoInternet', 'InformationGain', 'Completed ',\n",
    "       'Lecturer']])\n",
    "print(one_hot_encoded_data)"
   ]
  },
  {
   "cell_type": "code",
   "execution_count": null,
   "id": "5458d8ae",
   "metadata": {},
   "outputs": [],
   "source": [
    "#Split data into X and Y \n",
    "\n",
    "from sklearn.model_selection import train_test_split \n",
    "\n",
    "X = categorical_columns\n",
    "Y = df['Completed']\n",
    "\n",
    "print(X.columns)"
   ]
  },
  {
   "cell_type": "code",
   "execution_count": null,
   "id": "e992ed95",
   "metadata": {},
   "outputs": [],
   "source": [
    "# scaling the features\n",
    "#Convert the dataframe to an array by scaling \n",
    "from sklearn.preprocessing import scale\n",
    "\n",
    "\n",
    "cols = X.columns\n",
    "X = pd.DataFrame(scale(X))\n",
    "X.columns = cols\n",
    "X.columns"
   ]
  },
  {
   "cell_type": "code",
   "execution_count": null,
   "id": "4926838a",
   "metadata": {},
   "outputs": [],
   "source": [
    "# split data into train and test datasets \n",
    "\n",
    "from sklearn.model_selection import train_test_split\n",
    "\n",
    "X_train, X_test, y_train, y_test = train_test_split( X, Y, train_size=0.8, test_size=0.2, random_state=100)"
   ]
  },
  {
   "cell_type": "markdown",
   "id": "653059f1",
   "metadata": {},
   "source": [
    "## Modelling"
   ]
  },
  {
   "cell_type": "code",
   "execution_count": null,
   "id": "5f7c0e31",
   "metadata": {},
   "outputs": [],
   "source": [
    "#1.Linear model from sklean \n",
    "#Building the first model with all the feature\n",
    "\n",
    "from sklearn import linear_model \n",
    "from sklearn.metrics import r2_score \n",
    " \n",
    "lm = linear_model.LinearRegression() \n",
    "lm.fit(X_train, y_train) \n",
    "y_pred = lm.predict(X_test) \n",
    "print(r2_score(y_true=y_test, y_pred=y_pred)) "
   ]
  }
 ],
 "metadata": {
  "kernelspec": {
   "display_name": "Python 3",
   "language": "python",
   "name": "python3"
  },
  "language_info": {
   "codemirror_mode": {
    "name": "ipython",
    "version": 3
   },
   "file_extension": ".py",
   "mimetype": "text/x-python",
   "name": "python",
   "nbconvert_exporter": "python",
   "pygments_lexer": "ipython3",
   "version": "3.8.8"
  },
  "vscode": {
   "interpreter": {
    "hash": "04e3aaabf40009823ca5e3c388b1e012c40b7e654ec675af598b23a62af406f0"
   }
  }
 },
 "nbformat": 4,
 "nbformat_minor": 5
}
